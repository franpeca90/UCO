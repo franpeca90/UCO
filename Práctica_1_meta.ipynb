{
  "nbformat": 4,
  "nbformat_minor": 0,
  "metadata": {
    "colab": {
      "name": "Práctica 1 meta",
      "provenance": [],
      "collapsed_sections": []
    },
    "kernelspec": {
      "name": "python3",
      "display_name": "Python 3"
    },
    "language_info": {
      "name": "python"
    }
  },
  "cells": [
    {
      "cell_type": "markdown",
      "source": [
        "Practica 1"
      ],
      "metadata": {
        "id": "qiNlcd_OxTuc"
      }
    },
    {
      "cell_type": "code",
      "source": [
        "\n",
        "import random\n",
        "\n",
        "def generador(nCiudades):\n",
        "    tsp = []\n",
        "    for i in range(nCiudades):\n",
        "        distancias = []\n",
        "        for j in range(nCiudades):\n",
        "            if j == i:\n",
        "                distancias.append(0)\n",
        "            elif j < i:\n",
        "                distancias.append(tsp[j][i])\n",
        "            else:\n",
        "                distancias.append(random.randint(10, 1000))\n",
        "        tsp.append(distancias)\n",
        "    return tsp\n",
        "\n",
        "def main():\n",
        "    tsp = generador(10)\n",
        "    for i in tsp:\n",
        "        print(i)\n",
        "\n",
        "if __name__ == \"__main__\":\n",
        "    main()\n"
      ],
      "metadata": {
        "id": "OjsyeEavxX3-",
        "colab": {
          "base_uri": "https://localhost:8080/"
        },
        "outputId": "eb0b20db-bfbb-438a-e54c-750313e038c4"
      },
      "execution_count": null,
      "outputs": [
        {
          "output_type": "stream",
          "name": "stdout",
          "text": [
            "[0, 14, 497, 781, 152, 366, 388, 334, 207, 763]\n",
            "[14, 0, 720, 287, 903, 297, 63, 350, 368, 476]\n",
            "[497, 720, 0, 855, 857, 514, 403, 260, 741, 639]\n",
            "[781, 287, 855, 0, 438, 568, 642, 758, 16, 139]\n",
            "[152, 903, 857, 438, 0, 213, 784, 876, 89, 788]\n",
            "[366, 297, 514, 568, 213, 0, 236, 206, 101, 890]\n",
            "[388, 63, 403, 642, 784, 236, 0, 993, 460, 534]\n",
            "[334, 350, 260, 758, 876, 206, 993, 0, 168, 418]\n",
            "[207, 368, 741, 16, 89, 101, 460, 168, 0, 341]\n",
            "[763, 476, 639, 139, 788, 890, 534, 418, 341, 0]\n"
          ]
        }
      ]
    },
    {
      "cell_type": "markdown",
      "source": [
        "Esta es tu parte"
      ],
      "metadata": {
        "id": "4O6AJNYdyefD"
      }
    }
  ]
}